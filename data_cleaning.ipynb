{
 "cells": [
  {
   "cell_type": "code",
   "execution_count": 1,
   "metadata": {},
   "outputs": [],
   "source": [
    "from pyspark.sql import SparkSession\n",
    "from pyspark.sql.functions import col,lit\n",
    "\n",
    "spark = SparkSession.builder.getOrCreate()\n",
    "\n",
    "import os\n",
    "import glob"
   ]
  },
  {
   "cell_type": "code",
   "execution_count": 2,
   "metadata": {},
   "outputs": [
    {
     "name": "stdout",
     "output_type": "stream",
     "text": [
      "Defaulting to user installation because normal site-packages is not writeable\n",
      "Requirement already satisfied: demoji in /home/mhk9c/.local/lib/python3.7/site-packages (1.1.0)\n"
     ]
    }
   ],
   "source": [
    "username = 'mhk9c'\n",
    "# Install a pip package in the current Jupyter kernel\n",
    "import sys\n",
    "!{sys.executable} -m pip install demoji\n",
    "sys.path.append(f'/home/{username}/.local/lib/python3.7/site-packages/')"
   ]
  },
  {
   "cell_type": "code",
   "execution_count": 3,
   "metadata": {},
   "outputs": [
    {
     "name": "stderr",
     "output_type": "stream",
     "text": [
      "/opt/conda/lib/python3.7/site-packages/ipykernel/__main__.py:2: FutureWarning: The demoji.download_codes attribute is deprecated and will be removed from demoji in a future version. It is an unused attribute as emoji codes are now distributed directly with the demoji package.\n",
      "  from ipykernel import kernelapp as app\n"
     ]
    }
   ],
   "source": [
    "import demoji \n",
    "demoji.download_codes()"
   ]
  },
  {
   "cell_type": "code",
   "execution_count": 4,
   "metadata": {},
   "outputs": [],
   "source": [
    "data_path = \"/project/ds5559/team1_sp22/data/russian-troll-tweets-master\"\n",
    "reload = False"
   ]
  },
  {
   "cell_type": "code",
   "execution_count": 5,
   "metadata": {},
   "outputs": [
    {
     "name": "stdout",
     "output_type": "stream",
     "text": [
      "russian-troll-tweets-master\n",
      "Done loading.\n",
      "There are 2914254 tweets in this dataset\n"
     ]
    }
   ],
   "source": [
    "def load_data(_data_path, reload=True):\n",
    "    \n",
    "    dir_name = os.path.basename(os.path.normpath(_data_path))\n",
    "    print(dir_name)\n",
    "    \n",
    "    if(reload):\n",
    "        first = True\n",
    "        for file in glob.glob(f'{_data_path}/*.csv'):            \n",
    "            print(file)\n",
    "\n",
    "            if(first):\n",
    "                _df = spark.read.csv(file, header=True, inferSchema=True, mode=\"DROPMALFORMED\")                \n",
    "                _df = _df.withColumn(\"source_file\",lit(file))\n",
    "            else:\n",
    "                new_df = spark.read.csv(file, header=True, inferSchema=True, mode=\"DROPMALFORMED\")\n",
    "                new_df = new_df.withColumn(\"source_file\",lit(file))                \n",
    "                _df = _df.union(new_df)                        \n",
    "            first = False        \n",
    "            \n",
    "        _df.write.format(\"parquet\").mode(\"overwrite\").save(f\"{data_path}/{dir_name}_parquet\")\n",
    "        \n",
    "    else:\n",
    "        _df = spark.read.parquet(f\"{data_path}/{dir_name}_parquet\")\n",
    "        \n",
    "    print('Done loading.')\n",
    "    return _df\n",
    "        \n",
    "        \n",
    "df = load_data(data_path, False)\n",
    "total_tweets = df.count()\n",
    "print(f'There are {total_tweets} tweets in this dataset')"
   ]
  },
  {
   "cell_type": "code",
   "execution_count": 6,
   "metadata": {},
   "outputs": [
    {
     "name": "stdout",
     "output_type": "stream",
     "text": [
      "root\n",
      " |-- external_author_id: string (nullable = true)\n",
      " |-- author: string (nullable = true)\n",
      " |-- content: string (nullable = true)\n",
      " |-- region: string (nullable = true)\n",
      " |-- language: string (nullable = true)\n",
      " |-- publish_date: string (nullable = true)\n",
      " |-- harvested_date: string (nullable = true)\n",
      " |-- following: string (nullable = true)\n",
      " |-- followers: string (nullable = true)\n",
      " |-- updates: string (nullable = true)\n",
      " |-- post_type: string (nullable = true)\n",
      " |-- account_type: string (nullable = true)\n",
      " |-- retweet: string (nullable = true)\n",
      " |-- account_category: string (nullable = true)\n",
      " |-- new_june_2018: string (nullable = true)\n",
      " |-- alt_external_id: string (nullable = true)\n",
      " |-- tweet_id: string (nullable = true)\n",
      " |-- article_url: string (nullable = true)\n",
      " |-- tco1_step1: string (nullable = true)\n",
      " |-- tco2_step1: string (nullable = true)\n",
      " |-- tco3_step1: string (nullable = true)\n",
      " |-- source_file: string (nullable = true)\n",
      "\n"
     ]
    }
   ],
   "source": [
    "df.printSchema()"
   ]
  },
  {
   "cell_type": "code",
   "execution_count": 7,
   "metadata": {},
   "outputs": [],
   "source": [
    "df.createOrReplaceTempView(\"tweets\")"
   ]
  },
  {
   "cell_type": "code",
   "execution_count": 8,
   "metadata": {},
   "outputs": [
    {
     "name": "stdout",
     "output_type": "stream",
     "text": [
      "There are 2096049 english tweets in this dataset. They account for 71.924033% of the dataset.\n"
     ]
    }
   ],
   "source": [
    "sqlDF = spark.sql(\"SELECT * FROM tweets where language = 'English' \")\n",
    "# sqlDF.show(10, False)\n",
    "english_tweets = sqlDF.count()\n",
    "print(f'There are {english_tweets} english tweets in this dataset. They account for {english_tweets/total_tweets:%} of the dataset.')"
   ]
  },
  {
   "cell_type": "code",
   "execution_count": null,
   "metadata": {},
   "outputs": [],
   "source": [
    "sqlDF.createOrReplaceTempView(\"english_tweets\")"
   ]
  },
  {
   "cell_type": "code",
   "execution_count": null,
   "metadata": {},
   "outputs": [],
   "source": [
    "sqlDF = spark.sql(\"SELECT content,source_file FROM english_tweets LIMIT 100\")"
   ]
  },
  {
   "cell_type": "code",
   "execution_count": 9,
   "metadata": {},
   "outputs": [
    {
     "name": "stdout",
     "output_type": "stream",
     "text": [
      ":honeybee::honeybee::honeybee:\n",
      "+------------------------------------------------------------------------------------------------------------------------------------------------------------------------+----------------------------------------------------------------------------------+\n",
      "|curated_contenet                                                                                                                                                        |source_file                                                                       |\n",
      "+------------------------------------------------------------------------------------------------------------------------------------------------------------------------+----------------------------------------------------------------------------------+\n",
      "|\"#ATLCollegeFair + #ATLFair FEB 25TH  - GO KARTS  - BOWLING �  - TRAMPOLINE &amp; MORE  TEXT \"\"FAIR\"\" TO 678.755.9821   https://t.co/2Gq5W73cMN z19\"                    |/project/ds5559/team1_sp22/data/russian-troll-tweets-master/IRAhandle_tweets_5.csv|\n",
      "|We must all go to our local federal building or US Dist Courthouse tonight as Trump announces his Supreme Court pick. Dems must block this!                             |/project/ds5559/team1_sp22/data/russian-troll-tweets-master/IRAhandle_tweets_5.csv|\n",
      "|Some of you are acting like this shit has been a game until this month. People have been fighting &amp; dying for decades to stop this future.                          |/project/ds5559/team1_sp22/data/russian-troll-tweets-master/IRAhandle_tweets_5.csv|\n",
      "|Track Sammy Porter on Bandsintown for local concert alerts! https://t.co/EnJ7HUnCBD                                                                                     |/project/ds5559/team1_sp22/data/russian-troll-tweets-master/IRAhandle_tweets_5.csv|\n",
      "|Now Playing: AsAP Mob ft. AsAP Ant Lil Uzi Vert - Runner -&gt; https://t.co/eMX9JgTv3v                                                                                  |/project/ds5559/team1_sp22/data/russian-troll-tweets-master/IRAhandle_tweets_5.csv|\n",
      "|https://t.co/V02wk3c3mB a small amount of freedom.                                                                                                                      |/project/ds5559/team1_sp22/data/russian-troll-tweets-master/IRAhandle_tweets_5.csv|\n",
      "|When u lay down on a cold bed Right after a hot ass shower                                                                                                              |/project/ds5559/team1_sp22/data/russian-troll-tweets-master/IRAhandle_tweets_5.csv|\n",
      "|This Brutally Honest Post About Stay-At-Home Moms Was “Li... https://t.co/3J9fsNvQDu https://t.co/UM7iMQ8AnC                                                            |/project/ds5559/team1_sp22/data/russian-troll-tweets-master/IRAhandle_tweets_5.csv|\n",
      "|ICYMI: What is adidas BOOST?  VIDEO: https://t.co/t5m6CEM0v2 https://t.co/cn4MHpteLz                                                                                    |/project/ds5559/team1_sp22/data/russian-troll-tweets-master/IRAhandle_tweets_5.csv|\n",
      "|Music Producers Learn The 30 Day Beat Selling Formula #SellingBeats https://t.co/abFvxlTivI https://t.co/WHXam5yOyq                                                     |/project/ds5559/team1_sp22/data/russian-troll-tweets-master/IRAhandle_tweets_5.csv|\n",
      "|Now Playing: Rick Ross - Freaky Hoe Ft. Juicy J, Too Short -&gt; https://t.co/eMX9JgTv3v                                                                                |/project/ds5559/team1_sp22/data/russian-troll-tweets-master/IRAhandle_tweets_5.csv|\n",
      "|Let's call them what they are #terrorists #OregonUnderAttack https://t.co/6E1MCkGKjC                                                                                    |/project/ds5559/team1_sp22/data/russian-troll-tweets-master/IRAhandle_tweets_5.csv|\n",
      "|Spread the word, RT // Haz circular el mensaje, RT #EndYemenWar  https://t.co/wv2dO4ktRK                                                                                |/project/ds5559/team1_sp22/data/russian-troll-tweets-master/IRAhandle_tweets_5.csv|\n",
      "|#iAgree ..I've been a target of their stupid a long time & I refuse to stfu about the arrogance &stupid they perpetrate! @BeautyBind @Marmel                            |/project/ds5559/team1_sp22/data/russian-troll-tweets-master/IRAhandle_tweets_5.csv|\n",
      "|\"In case you forgot, here's a reel of @megynkelly \"\"fair and balanced\"\" opinions while at @FoxNews. https://t.co/ZwWO0yHRhK\"                                            |/project/ds5559/team1_sp22/data/russian-troll-tweets-master/IRAhandle_tweets_5.csv|\n",
      "|if you have more month at the end of your money i can show you how to make $1000+ every friday! #idgt https://t.co/Dwa52BFbUH                                           |/project/ds5559/team1_sp22/data/russian-troll-tweets-master/IRAhandle_tweets_5.csv|\n",
      "|\"#NowPlaying: Pete Rock &amp; Large Professor \"\"The Rap World\"\" #hiphop #music https://t.co/9Zdv9wkGmz\"                                                                 |/project/ds5559/team1_sp22/data/russian-troll-tweets-master/IRAhandle_tweets_5.csv|\n",
      "|It's important to note that Trump's constant discrediting of Intelligence Community is either admission of guilt or fear of the truth. https://t.co/UoJ1IfDS3A          |/project/ds5559/team1_sp22/data/russian-troll-tweets-master/IRAhandle_tweets_5.csv|\n",
      "|Soulja Boy and Chris Brown look stupid af.                                                                                                                              |/project/ds5559/team1_sp22/data/russian-troll-tweets-master/IRAhandle_tweets_5.csv|\n",
      "|\"I'll eat anything as long as it falls under the category \"\"bowl\"\"\"                                                                                                     |/project/ds5559/team1_sp22/data/russian-troll-tweets-master/IRAhandle_tweets_5.csv|\n",
      "|Assange has also said he cannot know Wikileaks sources &amp; wont discuss Wikileaks sources. What's changed? Why the exception to defend Russia? https://t.co/kzsmqCeAwf|/project/ds5559/team1_sp22/data/russian-troll-tweets-master/IRAhandle_tweets_5.csv|\n",
      "|.@MissYattaB We take fraud very seriously. We will escalate this to our customer support team immediately.                                                              |/project/ds5559/team1_sp22/data/russian-troll-tweets-master/IRAhandle_tweets_5.csv|\n",
      "|Wow, stunning breakdown of the evidence Podesta was hacked by a foreign government. Each step clearly illustrates the technical argument. https://t.co/5MA1EDC0gb       |/project/ds5559/team1_sp22/data/russian-troll-tweets-master/IRAhandle_tweets_5.csv|\n",
      "|Don't spend 2017 worrying about what might go wrong. Worrying just takes you in circles. Instead, get excited about what can go right. https://t.co/lrIm6yjtZf          |/project/ds5559/team1_sp22/data/russian-troll-tweets-master/IRAhandle_tweets_5.csv|\n",
      "|Just left the hospital in Burbank, CA.                                                                                                                                  |/project/ds5559/team1_sp22/data/russian-troll-tweets-master/IRAhandle_tweets_5.csv|\n",
      "|Trump's feud with the intelligence community makes sense. He has spent a long time cultivating his own network of sources. https://t.co/mQvGEtFNfX                      |/project/ds5559/team1_sp22/data/russian-troll-tweets-master/IRAhandle_tweets_5.csv|\n",
      "|AI used to collect ankles https://t.co/WntgmQUFL7                                                                                                                       |/project/ds5559/team1_sp22/data/russian-troll-tweets-master/IRAhandle_tweets_5.csv|\n",
      "|I heard them through the wall of my hotel room https://t.co/awuunSIG8m                                                                                                  |/project/ds5559/team1_sp22/data/russian-troll-tweets-master/IRAhandle_tweets_5.csv|\n",
      "|the best laid plans sometimes go awry https://t.co/MGnweFGeJp                                                                                                           |/project/ds5559/team1_sp22/data/russian-troll-tweets-master/IRAhandle_tweets_5.csv|\n",
      "|At the end of the day #God is number #1.                                                                                                                                |/project/ds5559/team1_sp22/data/russian-troll-tweets-master/IRAhandle_tweets_5.csv|\n",
      "|Me opening up to someone  https://t.co/lyZG7SHR4C                                                                                                                       |/project/ds5559/team1_sp22/data/russian-troll-tweets-master/IRAhandle_tweets_5.csv|\n",
      "|Top Five #HipHop Nightclubs on The Strip in #Vegas - Buy advance tickets here: https://t.co/rQJ2N8QneY                                                                  |/project/ds5559/team1_sp22/data/russian-troll-tweets-master/IRAhandle_tweets_5.csv|\n",
      "|You need a #man that can make your #dreams come true.                                                                                                                   |/project/ds5559/team1_sp22/data/russian-troll-tweets-master/IRAhandle_tweets_5.csv|\n",
      "|RT for a chance to win this #HiddenFigures movie prize pack featuring an autographed soundtrack CD! #giveaway https://t.co/ESshbp4RBG                                   |/project/ds5559/team1_sp22/data/russian-troll-tweets-master/IRAhandle_tweets_5.csv|\n",
      "|#HealthyHipHop via @H3TVdotCOM *Increase physical endurance* Healthy Eating* Anti-Bullying* Self Esteem+ #HelpKids https://t.co/Ee0syMkCmW                              |/project/ds5559/team1_sp22/data/russian-troll-tweets-master/IRAhandle_tweets_5.csv|\n",
      "|#HealthyHipHop via @H3TVdotCOM *Increase physical endurance* Healthy Eating* Anti-Bullying* Self Esteem+ #HelpKids https://t.co/awOXtMeSp3                              |/project/ds5559/team1_sp22/data/russian-troll-tweets-master/IRAhandle_tweets_5.csv|\n",
      "|\"I know it was. And it was poor follow up in my opinion. Only 1 follow up should have happened. \"\"My bad dog.\"\" Dassit https://t.co/yxsQvgITIE\"                         |/project/ds5559/team1_sp22/data/russian-troll-tweets-master/IRAhandle_tweets_5.csv|\n",
      "|Business Owner? #Entrepreneur? Start Up? Blogger? Reach 1,000's of People Per Day: https://t.co/Wf6UdpXq0w https://t.co/QqhRgHKTbA                                      |/project/ds5559/team1_sp22/data/russian-troll-tweets-master/IRAhandle_tweets_5.csv|\n",
      "|Here’s an artist I want to share Dondatta Hoffa @donjaffi26 https:/                                                                                                     |/project/ds5559/team1_sp22/data/russian-troll-tweets-master/IRAhandle_tweets_5.csv|\n",
      "|Burning Spear - Hail H.I.M https://t.co/Hm5zPNdR0P                                                                                                                      |/project/ds5559/team1_sp22/data/russian-troll-tweets-master/IRAhandle_tweets_5.csv|\n",
      "|Magazine Issue #3 Buy� https://t.co/H1XdrxpInn                                                                                                                          |/project/ds5559/team1_sp22/data/russian-troll-tweets-master/IRAhandle_tweets_5.csv|\n",
      "|Azealia Banks Has Been Banned From Facebook - https://t.co/VPiHiIDcS2 #IFWT                                                                                             |/project/ds5559/team1_sp22/data/russian-troll-tweets-master/IRAhandle_tweets_5.csv|\n",
      "|Congrats Issa &amp; Tracee on well-deserved @goldenglobes nominations! Win-win either way! #tbt last time a black woman won this category ;) https://t.co/FupdxtoyPL    |/project/ds5559/team1_sp22/data/russian-troll-tweets-master/IRAhandle_tweets_5.csv|\n",
      "|Cast your worries on #God                                                                                                                                               |/project/ds5559/team1_sp22/data/russian-troll-tweets-master/IRAhandle_tweets_5.csv|\n",
      "|Elevate via ((positivity)) [poz-i-tiv-i-tee] :black medium-small square:the state or character of being positive… https://t.co/8KmyIT0HrR                               |/project/ds5559/team1_sp22/data/russian-troll-tweets-master/IRAhandle_tweets_5.csv|\n",
      "|#TRUTH https://t.co/FhSarcBKTV                                                                                                                                          |/project/ds5559/team1_sp22/data/russian-troll-tweets-master/IRAhandle_tweets_5.csv|\n",
      "|Don't talk about the move before you make the move                                                                                                                      |/project/ds5559/team1_sp22/data/russian-troll-tweets-master/IRAhandle_tweets_5.csv|\n",
      "|Let us design your next #graphics �� #Logo #cdcover #Online flyer ? Visit https://t.co/3JZTum0GIr  https://t.co/Yg9G4o9jp3 908-964-7777 RT                              |/project/ds5559/team1_sp22/data/russian-troll-tweets-master/IRAhandle_tweets_5.csv|\n",
      "|Where's YOUR ACA Replacement that you claimed you had during the election @realDonaldTrump / #DoucheBagDonald  / #TraitorTrump https://t.co/dWRtXqAVfd                  |/project/ds5559/team1_sp22/data/russian-troll-tweets-master/IRAhandle_tweets_5.csv|\n",
      "|Infamous Apprentice star Omarosa Manigault is on her way from the boardroom to the White House https://t.co/NrDhD9oA1h https://t.co/bF8efxjzcW                          |/project/ds5559/team1_sp22/data/russian-troll-tweets-master/IRAhandle_tweets_5.csv|\n",
      "|\"How u claim to be conscious but talking abt \"\"at least I hear drake on the radio?\"\" Explain this @nuhafalak https://t.co/UEoPXEOBZz\"                                   |/project/ds5559/team1_sp22/data/russian-troll-tweets-master/IRAhandle_tweets_5.csv|\n",
      "|Parenting is mostly pretending you're OK as your kid finds new and interesting ways to torture you                                                                      |/project/ds5559/team1_sp22/data/russian-troll-tweets-master/IRAhandle_tweets_5.csv|\n",
      "|#IndieAdvancement Plug in &amp; get genuine organic results! https://t.co/8c0xynPuGd Global Radio Network. #1000Network https://t.co/v45hecGsVJ                         |/project/ds5559/team1_sp22/data/russian-troll-tweets-master/IRAhandle_tweets_5.csv|\n",
      "|#IndieAdvancement Plug in &amp; get genuine organic results! https://t.co/hsqqL5dJ7T Global Radio Network. #1000Network https://t.co/Xg3ZXOUzF5                         |/project/ds5559/team1_sp22/data/russian-troll-tweets-master/IRAhandle_tweets_5.csv|\n",
      "|BLESSINGS,  SHES IN OUR PRAYERS @souljaboy WE ACCEPT! #TRUUUSOCIETY @INTERSCOPE @UMG https://t.co/h8Oh0JaKbZ                                                            |/project/ds5559/team1_sp22/data/russian-troll-tweets-master/IRAhandle_tweets_5.csv|\n",
      "|Now Playing: Wyclef Jean - I Swear ft. Young Thug -&gt; https://t.co/eMX9JgTv3v                                                                                         |/project/ds5559/team1_sp22/data/russian-troll-tweets-master/IRAhandle_tweets_5.csv|\n",
      "|Have you heard ‘Chi Finest By Max Da God x Spiffy Product’ by @NatureboyMDG on #SoundCloud? #np https://t.co/uHbE16v0Ns                                                 |/project/ds5559/team1_sp22/data/russian-troll-tweets-master/IRAhandle_tweets_5.csv|\n",
      "|New Project//: DillanPonders (DillanPonders) - ACID REIGN https://t.co/K3MoXi7y2N                                                                                       |/project/ds5559/team1_sp22/data/russian-troll-tweets-master/IRAhandle_tweets_5.csv|\n",
      "|\"This track is DOPE! \"\"Damien The Architect &amp; Hadj - How You Do That (Prod by. @404Loudpack\"\" by General Hadj DSE on … https://t.co/jCwqxmlEUz\"                     |/project/ds5559/team1_sp22/data/russian-troll-tweets-master/IRAhandle_tweets_5.csv|\n",
      "|My resolutions are to go out &amp; travel more, embrace positivity, improve spiritual &amp; physical health, and expedite my next film project https://t.co/AdJlotMalb  |/project/ds5559/team1_sp22/data/russian-troll-tweets-master/IRAhandle_tweets_5.csv|\n",
      "|So....  Just got commissioned to write a response to Lee Daniels about #OscarsSoWhite. It will be out late this week.   Mind your wigs. https://t.co/4LMM4bcDf7         |/project/ds5559/team1_sp22/data/russian-troll-tweets-master/IRAhandle_tweets_5.csv|\n",
      "|!! https://t.co/01DHhK3QEY                                                                                                                                              |/project/ds5559/team1_sp22/data/russian-troll-tweets-master/IRAhandle_tweets_5.csv|\n",
      "|I haven't even gotten to Atlanta yet and I'm already broke. my gosh. �                                                                                                  |/project/ds5559/team1_sp22/data/russian-troll-tweets-master/IRAhandle_tweets_5.csv|\n",
      "|.@Smooth_Orator We need our own Facebook too!  That would be  awesome! A technical/internet #BlackWallStreet I'm already working on sumthin.                            |/project/ds5559/team1_sp22/data/russian-troll-tweets-master/IRAhandle_tweets_5.csv|\n",
      "|All praise to most high bless up ��                                                                                                                                     |/project/ds5559/team1_sp22/data/russian-troll-tweets-master/IRAhandle_tweets_5.csv|\n",
      "|Have you heard - Deep - feat. Casey Comer by @tttedm72 on #SoundCloud? #edm #rt - https://t.co/TJYGAceB9t                                                               |/project/ds5559/team1_sp22/data/russian-troll-tweets-master/IRAhandle_tweets_5.csv|\n",
      "|\"Review: James Baldwin is illuminated, with dizzying multimedia savvy, in \"\"I Am Not Your Negro\"\" https://t.co/GMaVAC8B5T https://t.co/e7XKlFICgm\"                      |/project/ds5559/team1_sp22/data/russian-troll-tweets-master/IRAhandle_tweets_5.csv|\n",
      "|Read about Kansas City Single mother Jamie Shultz in 9.0 Magazine ISSUE 2 https://t.co/H1XdrxpInn                                                                       |/project/ds5559/team1_sp22/data/russian-troll-tweets-master/IRAhandle_tweets_5.csv|\n",
      "|I love you theellenshow! Thank you for walking in your truth for so many years despite what… https://t.co/j3zBl4WuIJ                                                    |/project/ds5559/team1_sp22/data/russian-troll-tweets-master/IRAhandle_tweets_5.csv|\n",
      "|Yes, Last Chance City @LastChanceCity is in 9.0 Magazine Issue 4 here https://t.co/H1XdrxHjLX Digital or Print available  Now!                                          |/project/ds5559/team1_sp22/data/russian-troll-tweets-master/IRAhandle_tweets_5.csv|\n",
      "|#NowPlaying: Torae on @RAPStationRadio #Torae https://t.co/hfhi7ISHZs                                                                                                   |/project/ds5559/team1_sp22/data/russian-troll-tweets-master/IRAhandle_tweets_5.csv|\n",
      "|The black owned business Daily is out! https://t.co/cz1RnU1b0x Stories via @USCGamecockBoy #blackfriday #momblogger                                                     |/project/ds5559/team1_sp22/data/russian-troll-tweets-master/IRAhandle_tweets_5.csv|\n",
      "|Now Playing: Lil Uzi Vert - All My Sins (Prod. By FKi) -&gt; https://t.co/eMX9Jhb5V3                                                                                    |/project/ds5559/team1_sp22/data/russian-troll-tweets-master/IRAhandle_tweets_5.csv|\n",
      "|Not Selling Any Beats? Check Out Our 30 Day Beat Selling Formula #SellingBeats https://t.co/abFvxlTivI https://t.co/C0SKMnZXCK                                          |/project/ds5559/team1_sp22/data/russian-troll-tweets-master/IRAhandle_tweets_5.csv|\n",
      "|There are no great men, only great challenges that ordinary men are forced by circumstances to meet.                                                                    |/project/ds5559/team1_sp22/data/russian-troll-tweets-master/IRAhandle_tweets_5.csv|\n",
      "|people really get mad at you for wanting to stay to yourself..I could be going through some shit, but of course that's not important right?                             |/project/ds5559/team1_sp22/data/russian-troll-tweets-master/IRAhandle_tweets_5.csv|\n",
      "|In my job, for example, I interview people almost everyday on very heavy stories: sexual assault, police abuse,, etc.                                                   |/project/ds5559/team1_sp22/data/russian-troll-tweets-master/IRAhandle_tweets_5.csv|\n",
      "|The family of Colleen Zirkle, ’16, honors her memory with a scholarship fund: https://t.co/I7NaEuviih (via @Loyolamagazine)                                             |/project/ds5559/team1_sp22/data/russian-troll-tweets-master/IRAhandle_tweets_5.csv|\n",
      "|The days of rolling over to WS lunacy... done and wrapped. @bgnewman3 @wolverhampt0n1 @StopTh3Li3s @A_M_Perez #tcot #BLM                                                |/project/ds5559/team1_sp22/data/russian-troll-tweets-master/IRAhandle_tweets_5.csv|\n",
      "|psa!! https://t.co/6rVumOKIUC                                                                                                                                           |/project/ds5559/team1_sp22/data/russian-troll-tweets-master/IRAhandle_tweets_5.csv|\n",
      "|Thandie Newton slams UK Starbucks over counter display https://t.co/CTr5xnPumw https://t.co/NFIECoK7Iz                                                                  |/project/ds5559/team1_sp22/data/russian-troll-tweets-master/IRAhandle_tweets_5.csv|\n",
      "|Jumped back online to see feathers ruffled. I thought these were relatively tame.                                                                                       |/project/ds5559/team1_sp22/data/russian-troll-tweets-master/IRAhandle_tweets_5.csv|\n",
      "|\"\"\"I'm Not a Perfect Woman. I'm a Strong Woman. I'm Not a Perfect Woman. Yet I Strive for Perfection.  I am a Black Woman. I am a Woman\"\"  ~GNX https://t.co/aDgJr7fZx0\"|/project/ds5559/team1_sp22/data/russian-troll-tweets-master/IRAhandle_tweets_5.csv|\n",
      "|What 4 words can inspire you and others around you? #bogardthat https://t.co/Sf256wpYcn                                                                                 |/project/ds5559/team1_sp22/data/russian-troll-tweets-master/IRAhandle_tweets_5.csv|\n",
      "|Success consists of going from failure to failure without loss of enthusiasm.   https://t.co/eX0jKcvOgU https://t.co/qVA0YfYBue                                         |/project/ds5559/team1_sp22/data/russian-troll-tweets-master/IRAhandle_tweets_5.csv|\n",
      "|Now Playing: Cash Out - Big Meech -&gt; https://t.co/eMX9JgTv3v                                                                                                         |/project/ds5559/team1_sp22/data/russian-troll-tweets-master/IRAhandle_tweets_5.csv|\n",
      "|MUSIC LABELS &amp; ARTISTS, GET LIFETIME ROTATION FOR $10 ! GET  PROMO &amp; BDS &amp; DIGITAL TRACKER &amp; ROYATIES! https://t.co/iChLzWqg0Y                          |/project/ds5559/team1_sp22/data/russian-troll-tweets-master/IRAhandle_tweets_5.csv|\n",
      "|[Mixtape] Quality Drill Music 2 @30StephDirty @RICO_RECKLEZZ @StackOrStarvDjs https://t.co/neult28ujs #StackOrStarve #StackOrStarveApproved                             |/project/ds5559/team1_sp22/data/russian-troll-tweets-master/IRAhandle_tweets_5.csv|\n",
      "|Shootout on @Metra train, kills murder suspect in Deerfield. https://t.co/M4zOBnOkuH                                                                                    |/project/ds5559/team1_sp22/data/russian-troll-tweets-master/IRAhandle_tweets_5.csv|\n",
      "|[New Music]: @ChaseNDough (feat. Whitey G) #DoANumber https://t.co/rydvmIwKAY #ChaseNDough #ThisChicago #TrapScholarz                                                   |/project/ds5559/team1_sp22/data/russian-troll-tweets-master/IRAhandle_tweets_5.csv|\n",
      "|Still blows my mind that highest ACA enrollment is in states that went red in Nov. Now your own lives are at stake. Y'all played yourselves. https://t.co/1xoazvITks    |/project/ds5559/team1_sp22/data/russian-troll-tweets-master/IRAhandle_tweets_5.csv|\n",
      "|Meanwhile in America... https://t.co/fS6qXz8E5U                                                                                                                         |/project/ds5559/team1_sp22/data/russian-troll-tweets-master/IRAhandle_tweets_5.csv|\n",
      "|I'm here to kick rhymes and inspire. Hope my new album takes you a lot higher.. #InAllActuality coming soon.. https://t.co/CYWNK0dLPo                                   |/project/ds5559/team1_sp22/data/russian-troll-tweets-master/IRAhandle_tweets_5.csv|\n",
      "|Enter for your chance to win a ps4!!!! https://t.co/CEoWH2hdTU https://t.co/OG0pMujNfb                                                                                  |/project/ds5559/team1_sp22/data/russian-troll-tweets-master/IRAhandle_tweets_5.csv|\n",
      "|Seeing an o-line clear holes is a beautiful thing.                                                                                                                      |/project/ds5559/team1_sp22/data/russian-troll-tweets-master/IRAhandle_tweets_5.csv|\n",
      "|Most of us are suffering so much internally that being silent makes our bones quake.                                                                                    |/project/ds5559/team1_sp22/data/russian-troll-tweets-master/IRAhandle_tweets_5.csv|\n",
      "|1. just a reminder that, if you were paying attention, Trump's Russia links were perfectly clear last summer https://t.co/fMcuDUnLe2                                    |/project/ds5559/team1_sp22/data/russian-troll-tweets-master/IRAhandle_tweets_5.csv|\n",
      "|Please Support @MzLesa1111 Lesa's New Beginnings in Africa #Newbeginnings #Africatrip Donate Here - https://t.co/6LAc8wv3Zf ref-4                                       |/project/ds5559/team1_sp22/data/russian-troll-tweets-master/IRAhandle_tweets_5.csv|\n",
      "|'@reddogsusie Abandoned by her family and not being shared�Please retweet this sweet girl to help her find a home�TY�:red heart:�:red heart:� https://t.co/hkPppNbS7p'  |/project/ds5559/team1_sp22/data/russian-troll-tweets-master/IRAhandle_tweets_5.csv|\n",
      "|HipHop can be a very powerful weapon to help expand people's political &amp; social consciousness but if used wrong it can destroy.#1000Network                         |/project/ds5559/team1_sp22/data/russian-troll-tweets-master/IRAhandle_tweets_5.csv|\n",
      "+------------------------------------------------------------------------------------------------------------------------------------------------------------------------+----------------------------------------------------------------------------------+\n",
      "only showing top 100 rows\n",
      "\n",
      "root\n",
      " |-- external_author_id: string (nullable = true)\n",
      " |-- author: string (nullable = true)\n",
      " |-- content: string (nullable = true)\n",
      " |-- region: string (nullable = true)\n",
      " |-- language: string (nullable = true)\n",
      " |-- publish_date: string (nullable = true)\n",
      " |-- harvested_date: string (nullable = true)\n",
      " |-- following: string (nullable = true)\n",
      " |-- followers: string (nullable = true)\n",
      " |-- updates: string (nullable = true)\n",
      " |-- post_type: string (nullable = true)\n",
      " |-- account_type: string (nullable = true)\n",
      " |-- retweet: string (nullable = true)\n",
      " |-- account_category: string (nullable = true)\n",
      " |-- new_june_2018: string (nullable = true)\n",
      " |-- alt_external_id: string (nullable = true)\n",
      " |-- tweet_id: string (nullable = true)\n",
      " |-- article_url: string (nullable = true)\n",
      " |-- tco1_step1: string (nullable = true)\n",
      " |-- tco2_step1: string (nullable = true)\n",
      " |-- tco3_step1: string (nullable = true)\n",
      " |-- source_file: string (nullable = true)\n",
      " |-- curated_contenet: string (nullable = true)\n",
      "\n"
     ]
    }
   ],
   "source": [
    "import pyspark.sql.functions as func\n",
    "from pyspark.sql.types import StringType\n",
    "\n",
    "def convert_emojii(string):\n",
    "    return demoji.replace_with_desc(string, \":\")\n",
    "    \n",
    "test = convert_emojii(\"🐝🐝🐝\")   \n",
    "print(test)\n",
    "\n",
    "convert_emojii_UDF = func.udf(lambda z:convert_emojii(z),StringType())   \n",
    "\n",
    "sqlDF = sqlDF.withColumn(\"curated_contenet\", convert_emojii_UDF(col(\"content\")))\n",
    "  \n",
    "\n",
    "\n",
    "\n",
    "sqlDF.select([\"curated_contenet\", \"source_file\"]).show(100, False)\n",
    "sqlDF.printSchema()"
   ]
  },
  {
   "cell_type": "code",
   "execution_count": null,
   "metadata": {},
   "outputs": [],
   "source": [
    "sqlDF.map"
   ]
  }
 ],
 "metadata": {
  "kernelspec": {
   "display_name": "DS 5110 Spark 3.1",
   "language": "python",
   "name": "ds5110_spark3.1"
  },
  "language_info": {
   "codemirror_mode": {
    "name": "ipython",
    "version": 3
   },
   "file_extension": ".py",
   "mimetype": "text/x-python",
   "name": "python",
   "nbconvert_exporter": "python",
   "pygments_lexer": "ipython3",
   "version": "3.7.10"
  }
 },
 "nbformat": 4,
 "nbformat_minor": 4
}
